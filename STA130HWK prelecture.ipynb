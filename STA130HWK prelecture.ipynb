{
 "cells": [
  {
   "cell_type": "code",
   "execution_count": 1,
   "id": "61860cf4",
   "metadata": {},
   "outputs": [
    {
     "data": {
      "text/plain": [
       "row_n           0\n",
       "id              1\n",
       "name            0\n",
       "gender          0\n",
       "species         0\n",
       "birthday        0\n",
       "personality     0\n",
       "song           11\n",
       "phrase          0\n",
       "full_id         0\n",
       "url             0\n",
       "dtype: int64"
      ]
     },
     "execution_count": 1,
     "metadata": {},
     "output_type": "execute_result"
    }
   ],
   "source": [
    "import pandas as pd\n",
    "url = \"https://raw.githubusercontent.com/rfordatascience/tidytuesday/master/data/2020/2020-05-05/villagers.csv\"\n",
    "df = pd.read_csv(url)\n",
    "\n",
    "#checks for missing values \n",
    "df.isna().sum()"
   ]
  },
  {
   "cell_type": "markdown",
   "id": "4c8a6e9e",
   "metadata": {},
   "source": [
    "This missing value dataset shows that id has 1 missing value and song has 11 missing values."
   ]
  },
  {
   "cell_type": "code",
   "execution_count": 2,
   "id": "accfaf0f",
   "metadata": {},
   "outputs": [
    {
     "name": "stdout",
     "output_type": "stream",
     "text": [
      "The DataFrame has 391 rows and 11 columns.\n"
     ]
    }
   ],
   "source": [
    "import pandas as pd\n",
    "url = \"https://raw.githubusercontent.com/rfordatascience/tidytuesday/master/data/2020/2020-05-05/villagers.csv\"\n",
    "df = pd.read_csv(url)\n",
    "\n",
    "#this df.isna().sum() checks for missing values\n",
    "df.isna().sum()\n",
    "rows, columns = df.shape\n",
    "print(f\"The DataFrame has {rows} rows and {columns} columns.\")"
   ]
  },
  {
   "cell_type": "markdown",
   "id": "11870b14",
   "metadata": {},
   "source": [
    "General definitions\n",
    "\n",
    "Observations: In a dataset a observation refers to a single data point or record in a dataset- Each observation is typically represented by a row in a table or data frame. \n",
    "\n",
    "Variables: Charectersitics or properties that describe observations - Each variable is represented by a column in a table or dataframe.\n",
    "\n",
    "\n",
    "Definitions in context of my dataset\n",
    "\n",
    "Observations: In my dataset each row represents an observation - each observations corresponds to a villager from the game animal crossing - each row gives information about one villager.\n",
    "Variables: each column in my dataset represents a variable that describes some aspect of the villagers for eg : name, species, personality, birthday song etc are all variables associated with describing some aspect of each villager. \n",
    "\n",
    "-> In the animal crossing dataset each row(observation) represents one villager and each column(variable) represents or describes a specific charecteristic of that villager.\n"
   ]
  },
  {
   "cell_type": "code",
   "execution_count": 4,
   "id": "975abb84",
   "metadata": {},
   "outputs": [
    {
     "name": "stdout",
     "output_type": "stream",
     "text": [
      "The DataFrame has 391 rows and 11 columns.\n"
     ]
    },
    {
     "data": {
      "text/html": [
       "<div>\n",
       "<style scoped>\n",
       "    .dataframe tbody tr th:only-of-type {\n",
       "        vertical-align: middle;\n",
       "    }\n",
       "\n",
       "    .dataframe tbody tr th {\n",
       "        vertical-align: top;\n",
       "    }\n",
       "\n",
       "    .dataframe thead th {\n",
       "        text-align: right;\n",
       "    }\n",
       "</style>\n",
       "<table border=\"1\" class=\"dataframe\">\n",
       "  <thead>\n",
       "    <tr style=\"text-align: right;\">\n",
       "      <th></th>\n",
       "      <th>row_n</th>\n",
       "    </tr>\n",
       "  </thead>\n",
       "  <tbody>\n",
       "    <tr>\n",
       "      <th>count</th>\n",
       "      <td>391.000000</td>\n",
       "    </tr>\n",
       "    <tr>\n",
       "      <th>mean</th>\n",
       "      <td>239.902813</td>\n",
       "    </tr>\n",
       "    <tr>\n",
       "      <th>std</th>\n",
       "      <td>140.702672</td>\n",
       "    </tr>\n",
       "    <tr>\n",
       "      <th>min</th>\n",
       "      <td>2.000000</td>\n",
       "    </tr>\n",
       "    <tr>\n",
       "      <th>25%</th>\n",
       "      <td>117.500000</td>\n",
       "    </tr>\n",
       "    <tr>\n",
       "      <th>50%</th>\n",
       "      <td>240.000000</td>\n",
       "    </tr>\n",
       "    <tr>\n",
       "      <th>75%</th>\n",
       "      <td>363.500000</td>\n",
       "    </tr>\n",
       "    <tr>\n",
       "      <th>max</th>\n",
       "      <td>483.000000</td>\n",
       "    </tr>\n",
       "  </tbody>\n",
       "</table>\n",
       "</div>"
      ],
      "text/plain": [
       "            row_n\n",
       "count  391.000000\n",
       "mean   239.902813\n",
       "std    140.702672\n",
       "min      2.000000\n",
       "25%    117.500000\n",
       "50%    240.000000\n",
       "75%    363.500000\n",
       "max    483.000000"
      ]
     },
     "execution_count": 4,
     "metadata": {},
     "output_type": "execute_result"
    }
   ],
   "source": [
    "import pandas as pd\n",
    "url = \"https://raw.githubusercontent.com/rfordatascience/tidytuesday/master/data/2020/2020-05-05/villagers.csv\"\n",
    "df = pd.read_csv(url)\n",
    "df.isna().sum()\n",
    "rows, columns = df.shape\n",
    "print(f\"The DataFrame has {rows} rows and {columns} columns.\")\n",
    "\n",
    "#general summary statistics for numerical columns \n",
    "summary_stats = df.describe()\n",
    "df.describe()"
   ]
  },
  {
   "cell_type": "code",
   "execution_count": 7,
   "id": "aeb94e7f",
   "metadata": {},
   "outputs": [
    {
     "name": "stdout",
     "output_type": "stream",
     "text": [
      "The DataFrame has 391 rows and 11 columns.\n",
      "species\n",
      "cat          23\n",
      "rabbit       20\n",
      "frog         18\n",
      "squirrel     18\n",
      "duck         17\n",
      "dog          16\n",
      "cub          16\n",
      "pig          15\n",
      "bear         15\n",
      "mouse        15\n",
      "horse        15\n",
      "bird         13\n",
      "penguin      13\n",
      "sheep        13\n",
      "elephant     11\n",
      "wolf         11\n",
      "ostrich      10\n",
      "deer         10\n",
      "eagle         9\n",
      "gorilla       9\n",
      "chicken       9\n",
      "koala         9\n",
      "goat          8\n",
      "hamster       8\n",
      "kangaroo      8\n",
      "monkey        8\n",
      "anteater      7\n",
      "hippo         7\n",
      "tiger         7\n",
      "alligator     7\n",
      "lion          7\n",
      "bull          6\n",
      "rhino         6\n",
      "cow           4\n",
      "octopus       3\n",
      "Name: count, dtype: int64\n"
     ]
    }
   ],
   "source": [
    "import pandas as pd\n",
    "url = \"https://raw.githubusercontent.com/rfordatascience/tidytuesday/master/data/2020/2020-05-05/villagers.csv\"\n",
    "df = pd.read_csv(url)\n",
    "df.isna().sum()\n",
    "rows, columns = df.shape\n",
    "print(f\"The DataFrame has {rows} rows and {columns} columns.\")\n",
    "\n",
    "species_counts = df['species'].value_counts()\n",
    "print(species_counts)"
   ]
  },
  {
   "cell_type": "markdown",
   "id": "917d6af1",
   "metadata": {},
   "source": [
    "# 4. If the dataset you're using has (a) non-numeric variables and (b) missing values in numeric variables, explain (perhaps using help from a ChatBot if needed) the discrepancies between size of the dataset given by df.shape and what is reported by df.describe() with respect to (a) the number of columns it analyzes and (b) the values it reports in the \"count\" column"
   ]
  },
  {
   "cell_type": "code",
   "execution_count": 8,
   "id": "84503b39",
   "metadata": {},
   "outputs": [
    {
     "data": {
      "text/plain": [
       "survived         0\n",
       "pclass           0\n",
       "sex              0\n",
       "age            177\n",
       "sibsp            0\n",
       "parch            0\n",
       "fare             0\n",
       "embarked         2\n",
       "class            0\n",
       "who              0\n",
       "adult_male       0\n",
       "deck           688\n",
       "embark_town      2\n",
       "alive            0\n",
       "alone            0\n",
       "dtype: int64"
      ]
     },
     "execution_count": 8,
     "metadata": {},
     "output_type": "execute_result"
    }
   ],
   "source": [
    "import pandas as pd\n",
    "\n",
    "#Load the titanic data set\n",
    "url =  \" https://raw.githubusercontent.com/mwaskom/seaborn-data/master/titanic.csv\"\n",
    "df = pd.read_csv(url)\n",
    "\n",
    "#Check for missing values \n",
    "df.isna().sum()\n"
   ]
  },
  {
   "cell_type": "code",
   "execution_count": 9,
   "id": "f58cae81",
   "metadata": {},
   "outputs": [
    {
     "name": "stdout",
     "output_type": "stream",
     "text": [
      "The DataFrame has 891 rows and 15 columns.\n"
     ]
    }
   ],
   "source": [
    "import pandas as pd\n",
    "\n",
    "#Load the titanic data set\n",
    "url =  \" https://raw.githubusercontent.com/mwaskom/seaborn-data/master/titanic.csv\"\n",
    "df = pd.read_csv(url)\n",
    "\n",
    "#Check how many rows and columns are in the dataset \n",
    "rows, columns = df.shape\n",
    "print(f\"The DataFrame has {rows} rows and {columns} columns.\")"
   ]
  },
  {
   "cell_type": "code",
   "execution_count": 10,
   "id": "1069c093",
   "metadata": {},
   "outputs": [
    {
     "data": {
      "text/html": [
       "<div>\n",
       "<style scoped>\n",
       "    .dataframe tbody tr th:only-of-type {\n",
       "        vertical-align: middle;\n",
       "    }\n",
       "\n",
       "    .dataframe tbody tr th {\n",
       "        vertical-align: top;\n",
       "    }\n",
       "\n",
       "    .dataframe thead th {\n",
       "        text-align: right;\n",
       "    }\n",
       "</style>\n",
       "<table border=\"1\" class=\"dataframe\">\n",
       "  <thead>\n",
       "    <tr style=\"text-align: right;\">\n",
       "      <th></th>\n",
       "      <th>survived</th>\n",
       "      <th>pclass</th>\n",
       "      <th>age</th>\n",
       "      <th>sibsp</th>\n",
       "      <th>parch</th>\n",
       "      <th>fare</th>\n",
       "    </tr>\n",
       "  </thead>\n",
       "  <tbody>\n",
       "    <tr>\n",
       "      <th>count</th>\n",
       "      <td>891.000000</td>\n",
       "      <td>891.000000</td>\n",
       "      <td>714.000000</td>\n",
       "      <td>891.000000</td>\n",
       "      <td>891.000000</td>\n",
       "      <td>891.000000</td>\n",
       "    </tr>\n",
       "    <tr>\n",
       "      <th>mean</th>\n",
       "      <td>0.383838</td>\n",
       "      <td>2.308642</td>\n",
       "      <td>29.699118</td>\n",
       "      <td>0.523008</td>\n",
       "      <td>0.381594</td>\n",
       "      <td>32.204208</td>\n",
       "    </tr>\n",
       "    <tr>\n",
       "      <th>std</th>\n",
       "      <td>0.486592</td>\n",
       "      <td>0.836071</td>\n",
       "      <td>14.526497</td>\n",
       "      <td>1.102743</td>\n",
       "      <td>0.806057</td>\n",
       "      <td>49.693429</td>\n",
       "    </tr>\n",
       "    <tr>\n",
       "      <th>min</th>\n",
       "      <td>0.000000</td>\n",
       "      <td>1.000000</td>\n",
       "      <td>0.420000</td>\n",
       "      <td>0.000000</td>\n",
       "      <td>0.000000</td>\n",
       "      <td>0.000000</td>\n",
       "    </tr>\n",
       "    <tr>\n",
       "      <th>25%</th>\n",
       "      <td>0.000000</td>\n",
       "      <td>2.000000</td>\n",
       "      <td>20.125000</td>\n",
       "      <td>0.000000</td>\n",
       "      <td>0.000000</td>\n",
       "      <td>7.910400</td>\n",
       "    </tr>\n",
       "    <tr>\n",
       "      <th>50%</th>\n",
       "      <td>0.000000</td>\n",
       "      <td>3.000000</td>\n",
       "      <td>28.000000</td>\n",
       "      <td>0.000000</td>\n",
       "      <td>0.000000</td>\n",
       "      <td>14.454200</td>\n",
       "    </tr>\n",
       "    <tr>\n",
       "      <th>75%</th>\n",
       "      <td>1.000000</td>\n",
       "      <td>3.000000</td>\n",
       "      <td>38.000000</td>\n",
       "      <td>1.000000</td>\n",
       "      <td>0.000000</td>\n",
       "      <td>31.000000</td>\n",
       "    </tr>\n",
       "    <tr>\n",
       "      <th>max</th>\n",
       "      <td>1.000000</td>\n",
       "      <td>3.000000</td>\n",
       "      <td>80.000000</td>\n",
       "      <td>8.000000</td>\n",
       "      <td>6.000000</td>\n",
       "      <td>512.329200</td>\n",
       "    </tr>\n",
       "  </tbody>\n",
       "</table>\n",
       "</div>"
      ],
      "text/plain": [
       "         survived      pclass         age       sibsp       parch        fare\n",
       "count  891.000000  891.000000  714.000000  891.000000  891.000000  891.000000\n",
       "mean     0.383838    2.308642   29.699118    0.523008    0.381594   32.204208\n",
       "std      0.486592    0.836071   14.526497    1.102743    0.806057   49.693429\n",
       "min      0.000000    1.000000    0.420000    0.000000    0.000000    0.000000\n",
       "25%      0.000000    2.000000   20.125000    0.000000    0.000000    7.910400\n",
       "50%      0.000000    3.000000   28.000000    0.000000    0.000000   14.454200\n",
       "75%      1.000000    3.000000   38.000000    1.000000    0.000000   31.000000\n",
       "max      1.000000    3.000000   80.000000    8.000000    6.000000  512.329200"
      ]
     },
     "execution_count": 10,
     "metadata": {},
     "output_type": "execute_result"
    }
   ],
   "source": [
    "import pandas as pd\n",
    "\n",
    "#Load the titanic data set\n",
    "url =  \" https://raw.githubusercontent.com/mwaskom/seaborn-data/master/titanic.csv\"\n",
    "df = pd.read_csv(url)\n",
    "df.describe()"
   ]
  },
  {
   "cell_type": "markdown",
   "id": "3d5ebd08",
   "metadata": {},
   "source": [
    "Disperencies between size of the dataset given by df.shape() and what is reported by df.describe() with respect to (a) the number of columns it analyzes and (b) the values it reports in the \"count\" column. \n",
    "\n",
    "df.shape() shows the total number of of columns both numeric and non-numeric \n",
    "df.describe() only summarizes numeric columns not non-numeric - therefore shows fewer columns than df.shape() indicates \n",
    "\n",
    "(a) the number of columns it analyzes \n",
    "     - df.shape() tells me that there are 15 columns \n",
    "     - df.describe() only shows me 6 numeric columns : survived, pclass, age, sibsp, parch, and fare. \n",
    "     \n",
    "(b) The total number of rows are 891 given by the df.shape() attribute however using the method df.describe() we figure out that for all columns from survived to fare the count is 891, however for age the count is 714 indicating missing age values. 891-714 gives us 177 indicating 177 missing values. \n",
    "    The difference between the two is that df.describe() only provides summary statistics for columns with numeric data therefore if a column has missing values its count will be less than the total number of rows reflecting those missing values. \n",
    "    \n"
   ]
  },
  {
   "cell_type": "markdown",
   "id": "355b19c5",
   "metadata": {},
   "source": [
    "# 5. Use your ChatBot session to help understand the difference between the following and then provide your own paraphrasing summarization of that difference"
   ]
  },
  {
   "cell_type": "markdown",
   "id": "f20ef50f",
   "metadata": {},
   "source": [
    "an \"attribute\", such as df.shape which does not end with ()\n",
    "and a \"method\", such as df.describe() which does end with ()\n",
    "\n",
    "Attributes \n",
    "     attributes are values or properties associated with an object, they are accessed directly without parantheses they provide information about an objects or its state\n",
    "     \n",
    "Methods \n",
    "    methods are functions defined within a class that perform actions or operations on the object - they are called using parantheses, they often perform computations or actions and may return results or modify the state of the object. \n",
    "    Attributes: Provide information or properties of an object and are accessed without parentheses. Example: df.shape gives the dimensions of the DataFrame.\n",
    "    Methods: Perform actions or operations on an object and are called with parentheses. Example: df.describe() computes and returns summary statistics.\n",
    "    \n",
    "In conclusion attributes give information about an object or its state property etc whereas methods perform actions or operations on the object the major difference while coding attributes and methods is that methods are called with parentheses for eg df.describe() whereas attributes are accessed directly without using parantheses.\n"
   ]
  },
  {
   "cell_type": "markdown",
   "id": "74251713",
   "metadata": {},
   "source": [
    "# Summary of Chatbot Session"
   ]
  },
  {
   "cell_type": "markdown",
   "id": "6e6cf01a",
   "metadata": {},
   "source": [
    "Here's a summary of our chat:\n",
    "\n",
    "Pandas DataFrame Rows and Columns:\n",
    "\n",
    "You asked how to determine the number of rows and columns in a pandas DataFrame. We used the df.shape attribute to get this information, which returns a tuple representing (number of rows, number of columns).\n",
    "Definitions of \"Observations\" and \"Variables\":\n",
    "\n",
    "We discussed the general definitions of observations (rows in the dataset, representing individual data points) and variables (columns, representing characteristics of the observations). In the context of your dataset (Animal Crossing villagers), each villager is an observation, and each column (like species, personality) is a variable.\n",
    "Summarizing the Dataset:\n",
    "\n",
    "You used df.describe() to summarize numerical columns and df['column'].value_counts() to summarize categorical columns (like species or personality). This provides both statistical insights for numerical data and frequency counts for categorical data.\n",
    "We discussed how the simplest summarization involves using these two methods to quickly understand the distribution of values.\n",
    "Difference Between print(summary_stats) and df.describe():\n",
    "\n",
    "We clarified that df.describe() computes and immediately shows the summary statistics, while print(summary_stats) displays the result of df.describe() after saving it in a variable.\n",
    "Difference Between Attributes and Methods:\n",
    "\n",
    "You learned that attributes (like df.shape) provide information about an object without requiring parentheses, while methods (like df.describe()) perform actions and require parentheses.\n",
    "The discussion mainly focused on understanding basic pandas functionality and how to interpret dataset summaries using common methods and attributes.\n",
    "\n",
    "url to chatbot session: https://chatgpt.com/share/b822d6a6-4fa5-4a9e-8409-727e343a8404"
   ]
  },
  {
   "cell_type": "code",
   "execution_count": null,
   "id": "dc0fd9c6",
   "metadata": {},
   "outputs": [],
   "source": []
  }
 ],
 "metadata": {
  "kernelspec": {
   "display_name": "Python 3 (ipykernel)",
   "language": "python",
   "name": "python3"
  },
  "language_info": {
   "codemirror_mode": {
    "name": "ipython",
    "version": 3
   },
   "file_extension": ".py",
   "mimetype": "text/x-python",
   "name": "python",
   "nbconvert_exporter": "python",
   "pygments_lexer": "ipython3",
   "version": "3.11.6"
  }
 },
 "nbformat": 4,
 "nbformat_minor": 5
}
