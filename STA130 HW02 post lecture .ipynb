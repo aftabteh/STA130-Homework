{
 "cells": [
  {
   "cell_type": "markdown",
   "id": "9a373450",
   "metadata": {},
   "source": [
    "##### 5. Recreate (or resume) the previous ChatBot session from question \"4\" above, and now prompt the ChatBot session that you have a couple extensions of the code to show it, and then show it each of the extentions of the \"Markovian ChatBot code\" below in turn"
   ]
  },
  {
   "cell_type": "markdown",
   "id": "a81057d4",
   "metadata": {},
   "source": [
    "First Extension\n",
    "\n",
    "- Tracks bi-grams (consecutive) words rather than just single words"
   ]
  },
  {
   "cell_type": "code",
   "execution_count": null,
   "id": "8831eb4d",
   "metadata": {},
   "outputs": [],
   "source": [
    "# Markovian Chatbot Extension #1\n",
    "\n",
    "# initializes variable word_used2 to track how often each bi-gram(pair of consecutive word appears)\n",
    "#counts occurances of bi-gram\n",
    "word_used2 = defaultdict(int)  #defaultdic(int) initializes the count of the bi-gram to 0\n",
    "\n",
    "#initializes variable next_word2 to track what words come after each bi-gram and how often it appears\n",
    "#tracks the word following the bi-gram and its frequency\n",
    "next_word2 = defaultdict(lambda: defaultdict(int)) # lambda ensures for each bi-gram a new counter is created to count occurences of the following word\n",
    "\n",
    "\n",
    "for i,word in enumerate(words[:-2]):\n",
    "    \n",
    "    # for each bi-gram and the next word increases the count in word_used2 by 1 for every occurance of that word\n",
    "    word_used2[word+' '+words[i+1]] += 1\n",
    "    \n",
    "    #tracks the words following the bi-gram\n",
    "    next_word2[word+' '+words[i+1]][words[i+2]] += 1 "
   ]
  },
  {
   "cell_type": "markdown",
   "id": "f582a50f",
   "metadata": {},
   "source": [
    "##### Chatbot Session Summary"
   ]
  },
  {
   "cell_type": "markdown",
   "id": "03ef1af2",
   "metadata": {},
   "source": [
    "Markovian Chatbot Code:\n",
    "\n",
    "You shared code for a basic Markovian chatbot that tracks word frequencies and the next word probabilities based on single words. I explained the code and suggested improvements, such as using defaultdict to simplify the code and adding a function to generate text based on probabilities.\n",
    "Extension #1 (Bi-grams):\n",
    "\n",
    "You extended the chatbot to work with bi-grams (pairs of consecutive words), which adds more context and improves the text generation. I explained how this change enhances the chatbot's ability to generate more coherent sentences and provided updated generation logic to handle bi-grams.\n",
    "Character-Specific Markov Chains:\n",
    "\n",
    "You asked about creating Markov chains based on characters instead of words. I provided a basic implementation of a character-specific Markov chain and explained how to generate text at the character level. I also showed how this approach can be extended to n-grams of characters for more contextual generation.\n",
    "\n",
    "Chatbot session url link: https://chatgpt.com/share/66e9fa1e-aa7c-8012-a548-4dbccb17ebaf"
   ]
  },
  {
   "cell_type": "markdown",
   "id": "b62c3a3f",
   "metadata": {},
   "source": [
    "##### ChatBot Session Summary"
   ]
  },
  {
   "cell_type": "markdown",
   "id": "0283be3b",
   "metadata": {},
   "source": [
    "Markovian Chatbot Code Explanation:\n",
    "\n",
    "You provided the original code of a Markovian chatbot and an extension of it.\n",
    "We discussed how the extension differs from the original, with the extension introducing character-specific Markov chains by tracking the word patterns used by different characters.\n",
    "Character-Specific Markov Chains:\n",
    "\n",
    "I explained the concept of character-specific Markov chains, where separate Markov models are created for each character, allowing the chatbot to generate distinct dialogue for each one based on their speaking style.\n",
    "I also provided a detailed explanation of how character-specific Markov chains are implemented in the extension code you shared.\n",
    "Line-by-Line Explanation:\n",
    "\n",
    "I then broke down the extension code in simple terms, explaining what each line does for someone with no coding experience.\n",
    "We covered how the program tracks which character is speaking, stores word pairs (bigrams), and keeps track of what word follows each word pair (trigrams) to model each character's unique way of speaking.\n",
    "\n",
    "ChatBot Session url link: https://chatgpt.com/share/66ec4c42-e240-8012-9643-b5b91e1a4e2b"
   ]
  },
  {
   "cell_type": "markdown",
   "id": "79b10629",
   "metadata": {},
   "source": [
    "##### 6. Report on your experience interacting with ChatBots to understand the Monte Hall problem and \"Markovian ChatBot\" code"
   ]
  },
  {
   "cell_type": "markdown",
   "id": "937c342a",
   "metadata": {},
   "source": [
    "1.Discuss how quickly the ChatBot was able to be helpful for each of the above questions, and if so, how?\n",
    "      The ChatBot was very helpful for each of the questions above, it made some terms that I couldn't understand simpler for me and broke down each line of code when I asked it to, and explained it to me in a way someone who has no experience of coding would understand. Although I've never heared about the Monte Hall problem or the Markovian code I was able to comprehend it more easily in terms of code. It really helped me figure out what was going on in the code and rather than understanding what the overall code does I was able to understand how each line works and why its needed.\n",
    "\n",
    "\n",
    "2.Discuss whether or not interacting with ChatBot to try to figure things out was frustrating or unhelpful, and if so, how?\n",
    "    Despite the ChatBot being very helpful in trying to assist in figuring things out, however sometimes it can provide too much information and code that is out of my understanding scope. That made me quite confused as to what was going on in the code and I couldn't focus on what information was relevant to my stats course, and to the Monte Hall and Markovian code. Therefore, it can be overwhelming in those terms since it may lack context about the problem. \n",
    "\n",
    "3.Based on your experiences to date (e.g., including using ChatBots to troubleshoot coding errors in the previous homework), provide an overall assessment evaluating the usefulness of ChatBots as tools to help you understand code\n",
    "    Overall I would say the chatbot did a great job at helping me understand the code and gave me different scenarios in ways I can use it. As someone with no prior experience with coding, it made me get a little more comfortable with coding, and i'm sure with the help of it I can definetly learn coding. It has assited me with understanding certain syntax errors and why they occur, as well given me step-by-step guidance. I also really love the fact that it can do coding explanations for you, and from my experience i've learned that its better to ask it for line by line code explanations rather than just explain the entire code all at once because then it does skim through some code, with line by line explanations it goes in more depth.\n",
    "    "
   ]
  },
  {
   "cell_type": "markdown",
   "id": "77c6e2c6",
   "metadata": {},
   "source": [
    "##### 7. Reflect on your experience interacting with ChatBot and describe how your perception of AI-driven assistance tools in the context of learning coding, statistics, and data science has been evolving (or not) since joining the course\n"
   ]
  },
  {
   "cell_type": "markdown",
   "id": "ab48590b",
   "metadata": {},
   "source": [
    "My experience interacting with ChatBot has been very pleasent with a few frustrations here and there however over all I believe that ChatBot does a great job and is very beneficial during the learning process. In terms of my perception of AI-driven assistance tools in the context of learning coding, statistics and data science, i'd say it's definetly made understanding complex topics in coding way easier. As I work through the homework, I really appreciate the fact that I can use ChatBot not to provide answers for my homework but to guide me through understanding the concepts so that if I have to do it on my own I can. This evolving perception of AI-driven assistance tools and integrating AI into this course has made the university experience for this course way better, since most of the time students have to try to comprehend topics on there own and without some sort of guidance it gets overwhelming. There is google search but that is very time consuming going through many links whereas AI-driven assistance tools can help explain topics to you, although they may sometimes require clarifications."
   ]
  },
  {
   "cell_type": "markdown",
   "id": "a49e9154",
   "metadata": {},
   "source": []
  },
  {
   "cell_type": "code",
   "execution_count": null,
   "id": "f01c52af",
   "metadata": {},
   "outputs": [],
   "source": []
  }
 ],
 "metadata": {
  "kernelspec": {
   "display_name": "Python 3 (ipykernel)",
   "language": "python",
   "name": "python3"
  },
  "language_info": {
   "codemirror_mode": {
    "name": "ipython",
    "version": 3
   },
   "file_extension": ".py",
   "mimetype": "text/x-python",
   "name": "python",
   "nbconvert_exporter": "python",
   "pygments_lexer": "ipython3",
   "version": "3.11.6"
  }
 },
 "nbformat": 4,
 "nbformat_minor": 5
}
